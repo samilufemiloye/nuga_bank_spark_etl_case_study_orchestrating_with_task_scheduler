{
 "cells": [
  {
   "cell_type": "code",
   "execution_count": 1,
   "id": "ec0e24d6",
   "metadata": {},
   "outputs": [],
   "source": [
    "# Import necessary libraries\n",
    "from pyspark.sql import SparkSession\n",
    "from pyspark.sql import DataFrameWriter\n",
    "from pyspark.sql.functions import monotonically_increasing_id\n",
    "import os\n",
    "import psycopg2"
   ]
  },
  {
   "cell_type": "code",
   "execution_count": null,
   "id": "8d471691",
   "metadata": {},
   "outputs": [],
   "source": [
    "# set java home\n",
    "os.environ['JAVA_HOME'] = 'C:\\java8'"
   ]
  },
  {
   "cell_type": "code",
   "execution_count": null,
   "id": "001d466c",
   "metadata": {},
   "outputs": [],
   "source": [
    "# Initialize my Spark Session\n",
    "spark = SparkSession.builder \\\n",
    "        .appName(\"Nuga Bank ETL\") \\\n",
    "        .config(\"spark.jars\", \"postgresql-42.7.3.jar\") \\\n",
    "        .getOrCreate()"
   ]
  },
  {
   "cell_type": "code",
   "execution_count": null,
   "id": "d6a96b9d",
   "metadata": {},
   "outputs": [],
   "source": [
    "spark"
   ]
  },
  {
   "cell_type": "code",
   "execution_count": null,
   "id": "850ce466",
   "metadata": {},
   "outputs": [],
   "source": [
    "# Extract this historical data into a spark dataframe\n",
    "\n",
    "df = spark.read.csv(r'dataset\\rawdata\\nuga_bank_transactions.csv', header=True, inferSchema=True)"
   ]
  },
  {
   "cell_type": "code",
   "execution_count": null,
   "id": "c9655712",
   "metadata": {},
   "outputs": [],
   "source": [
    "df.show()"
   ]
  },
  {
   "cell_type": "code",
   "execution_count": null,
   "id": "bd10eb61",
   "metadata": {},
   "outputs": [],
   "source": [
    "df.printSchema()"
   ]
  },
  {
   "cell_type": "code",
   "execution_count": null,
   "id": "e2ccf07f",
   "metadata": {},
   "outputs": [],
   "source": [
    "# Data cleaning and transformation\n",
    "for column in df.columns:\n",
    "    print(column, 'Nulls:', df.filter(df[column].isNull()).count())"
   ]
  },
  {
   "cell_type": "code",
   "execution_count": null,
   "id": "621cacad",
   "metadata": {},
   "outputs": [],
   "source": [
    "df.describe().show()"
   ]
  },
  {
   "cell_type": "code",
   "execution_count": null,
   "id": "1eeda119",
   "metadata": {},
   "outputs": [],
   "source": [
    "# fill up the missing values\n",
    "df_clean = df.fillna({\n",
    "    'Customer_Name': 'Unknown',\n",
    "    'Customer_Address': 'Unknown',\n",
    "    'Customer_City': 'Unknown',\n",
    "    'Customer_State': 'Unknown',\n",
    "    'Customer_Country': 'Unknown',\n",
    "    'Company': 'Unknown', \n",
    "    'Job_Title': 'Unknown',\n",
    "    'Email': 'Unknown',\n",
    "    'Phone_Number': 'Unknown',\n",
    "    'Credit_Card_Number': 0,\n",
    "    'IBAN': 'Unknown',\n",
    "    'Currency_Code': 'Unknown',\n",
    "    'Random_Number': 0.0,\n",
    "    'Category' : 'Unknown',\n",
    "    'Group' : 'Unknown',\n",
    "    'Is_Active' : 'Unknown',\n",
    "    'Description' : 'Unknown',\n",
    "    'Gender' : 'Unknown',\n",
    "    'Marital_Status' : 'Unknown'\n",
    "})"
   ]
  },
  {
   "cell_type": "code",
   "execution_count": null,
   "id": "2dde67e1",
   "metadata": {},
   "outputs": [],
   "source": [
    "# Drop the missing values in the Last_Updated column\n",
    "df_clean = df_clean.na.drop(subset=['Last_Updated'])"
   ]
  },
  {
   "cell_type": "code",
   "execution_count": null,
   "id": "cada01cf",
   "metadata": {},
   "outputs": [],
   "source": [
    "for column in df_clean.columns:\n",
    "    print(column, 'Nulls:', df_clean.filter(df_clean[column].isNull()).count())"
   ]
  },
  {
   "cell_type": "code",
   "execution_count": null,
   "id": "efbc10cf",
   "metadata": {},
   "outputs": [],
   "source": [
    "df.columns"
   ]
  },
  {
   "cell_type": "code",
   "execution_count": null,
   "id": "d6fe1aca",
   "metadata": {},
   "outputs": [],
   "source": [
    "# Data Transaformation to 2NF\n",
    "# transaction table\n",
    "transaction = df_clean.select('Transaction_Date','Amount','Transaction_Type') \\\n",
    "                      .withColumn('transaction_id', monotonically_increasing_id()) \\\n",
    "                      .select('transaction_id', 'Transaction_Date','Amount','Transaction_Type')\n",
    "                      \n",
    "transaction.show()"
   ]
  },
  {
   "cell_type": "code",
   "execution_count": null,
   "id": "eb568ff2",
   "metadata": {},
   "outputs": [],
   "source": [
    "# Customer table\n",
    "customer = df_clean.select('Customer_Name', 'Customer_Address', 'Customer_City', 'Customer_State', \\\n",
    "                         'Customer_Country').distinct() \\\n",
    "                   .withColumn('customer_id', monotonically_increasing_id()) \\\n",
    "                   .select('customer_id', 'Customer_Name', 'Customer_Address', 'Customer_City', \\\n",
    "                         'Customer_State', 'Customer_Country')\n",
    "\n",
    "customer.show()"
   ]
  },
  {
   "cell_type": "code",
   "execution_count": null,
   "id": "04d6dad0",
   "metadata": {},
   "outputs": [],
   "source": [
    "# employee table\n",
    "employee = df_clean.select('Company', 'Job_Title', 'Email', 'Phone_Number', 'Gender', 'Marital_Status').distinct() \\\n",
    "                   .withColumn('employee_id', monotonically_increasing_id()) \\\n",
    "                   .select('employee_id', 'Company', 'Job_Title','Email', 'Phone_Number', 'Gender', 'Marital_Status')\n",
    "\n",
    "employee.show()"
   ]
  },
  {
   "cell_type": "code",
   "execution_count": null,
   "id": "6572be0e",
   "metadata": {},
   "outputs": [],
   "source": [
    "# fact_table\n",
    "\n",
    "fact_table = df_clean.join(transaction, ['Transaction_Date','Amount','Transaction_Type'], 'inner') \\\n",
    "                     .join(customer, ['Customer_Name', 'Customer_Address', 'Customer_City', \\\n",
    "                         'Customer_State', 'Customer_Country'], 'inner') \\\n",
    "                     .join(employee, ['Company', 'Job_Title', 'Email', 'Phone_Number', \\\n",
    "                         'Gender', 'Marital_Status'], 'inner') \\\n",
    "                     .select('transaction_id', 'customer_id', 'employee_id', 'Credit_Card_Number', 'IBAN', 'Currency_Code', 'Random_Number', \\\n",
    "                                    'Category', 'Group', 'Is_Active', 'Last_Updated', 'Description')\n",
    "\n",
    "fact_table.show()"
   ]
  },
  {
   "cell_type": "code",
   "execution_count": null,
   "id": "bb45bc0a",
   "metadata": {},
   "outputs": [],
   "source": [
    "# Data Loading\n",
    "# Develop functions to Get Database Connection\n",
    "def get_db_connection():\n",
    "    connection = psycopg2.connect(\n",
    "        host='loaclhost',\n",
    "        database='nuga_bank_orchestration',\n",
    "        password='password'\n",
    "    )\n",
    "    return connection\n",
    "\n",
    "# connect to sql database\n",
    "conn = get_db_connection()"
   ]
  },
  {
   "cell_type": "code",
   "execution_count": null,
   "id": "6646aff3",
   "metadata": {},
   "outputs": [],
   "source": [
    "# Create a function to create tables\n",
    "def create_table():\n",
    "    conn = get_db_connection()\n",
    "    cursor = conn.cursor()\n",
    "    create_table_query = '''\n",
    "                         DROP TABLE IF EXISTS customer;\n",
    "                         DROP TABLE IF EXISTS transaction;\n",
    "                         DROP TABLE IF EXISTS employee;\n",
    "                         DROP TABLE IF EXISTS fact_table;\n",
    "\n",
    "                         CREATE TABLE customer (\n",
    "                             customer_id BIGINT,\n",
    "                             Customer_Name VARCHAR(10000),\n",
    "                             Customer_Address VARCHAR(10000),\n",
    "                             Customer_City VARCHAR(10000),\n",
    "                             Customer_State VARCHAR(10000),\n",
    "                             Customer_Country VARCHAR(10000)\n",
    "                         );\n",
    "\n",
    "                         CREATE TABLE transaction (\n",
    "                             transaction_id BIGINT,\n",
    "                             Transaction_Date DATE,\n",
    "                             Amount FLOAT,\n",
    "                             Transaction_Type VARCHAR(10000)\n",
    "                         );\n",
    "\n",
    "                         CREATE TABLE employee (\n",
    "                             employee_id BIGINT,\n",
    "                             Company VARCHAR(10000),\n",
    "                             Job_Title VARCHAR(10000),\n",
    "                             Email VARCHAR(10000),\n",
    "                             Phone_Number VARCHAR(10000),\n",
    "                             Gender VARCHAR(10000),\n",
    "                             Marital_Status VARCHAR(10000)\n",
    "                        );\n",
    "\n",
    "                         CREATE TABLE employee (\n",
    "                             transaction_id BIGINT,\n",
    "                             customer_id BIGINT,\n",
    "                             employee_id BIGINT,\n",
    "                             Credit_Card_Number BIGINT,\n",
    "                             IBAN VARCHAR(10000),\n",
    "                             Currency_Code VARCHAR(10000),\n",
    "                             Random_Number FLOAT,\n",
    "                             Category VARCHAR(10000),\n",
    "                             \"Group\" VARCHAR(10000),\n",
    "                             Is_Active VARCHAR(10000),\n",
    "                             Last_Updated DATE,\n",
    "                             Description VARCHAR(10000)\n",
    "                        );\n",
    "                         '''\n",
    "    cursor.execute(create_table_query)\n",
    "    conn.commit()\n",
    "    cursor.close()\n",
    "    conn.close()"
   ]
  },
  {
   "cell_type": "code",
   "execution_count": null,
   "id": "de90d8d0",
   "metadata": {},
   "outputs": [],
   "source": [
    "customer.printSchema()"
   ]
  },
  {
   "cell_type": "code",
   "execution_count": null,
   "id": "ff139ce4",
   "metadata": {},
   "outputs": [],
   "source": [
    "create_table()"
   ]
  },
  {
   "cell_type": "code",
   "execution_count": null,
   "id": "2fd9d2c3",
   "metadata": {},
   "outputs": [],
   "source": [
    "# Load the data into the tables\n",
    "url = \"jdbc:postgresql://localhost:5432/nuga_bank_orchestration\"\n",
    "properties = {\n",
    "    \"user\" : \"postgres\",\n",
    "    \"password\" : \"password\",\n",
    "    \"driver\" : \"org.postgresql.Driver\"\n",
    "}\n",
    "\n",
    "customer.write.jdbc(url=url, table=\"customer\", mode=\"append\", properties=properties)"
   ]
  },
  {
   "cell_type": "code",
   "execution_count": null,
   "id": "089058ee",
   "metadata": {},
   "outputs": [],
   "source": [
    "employee.write.jdbc(url=url, table=\"employee\", mode=\"append\", properties=properties)\n",
    "transaction.write.jdbc(url=url, table=\"transaction\", mode=\"append\", properties=properties)\n",
    "fact_table.write.jdbc(url=url, table=\"fact_table\", mode=\"append\", properties=properties)"
   ]
  },
  {
   "cell_type": "code",
   "execution_count": null,
   "id": "11d3e7de",
   "metadata": {},
   "outputs": [],
   "source": [
    "# Automating (Orchestrating) the process"
   ]
  }
 ],
 "metadata": {
  "kernelspec": {
   "display_name": "Python 3",
   "language": "python",
   "name": "python3"
  },
  "language_info": {
   "codemirror_mode": {
    "name": "ipython",
    "version": 3
   },
   "file_extension": ".py",
   "mimetype": "text/x-python",
   "name": "python",
   "nbconvert_exporter": "python",
   "pygments_lexer": "ipython3",
   "version": "3.11.9"
  }
 },
 "nbformat": 4,
 "nbformat_minor": 5
}
