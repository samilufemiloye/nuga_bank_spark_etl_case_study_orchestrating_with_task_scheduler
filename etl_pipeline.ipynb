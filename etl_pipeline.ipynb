{
 "cells": [
  {
   "cell_type": "code",
   "execution_count": 1,
   "id": "ec0e24d6",
   "metadata": {},
   "outputs": [],
   "source": [
    "# Import necessary libraries\n",
    "from pyspark.sql import SparkSession\n",
    "from pyspark.sql import DataFrameWriter\n",
    "from pyspark.sql.functions import monotonically_increasing_id\n",
    "import os\n",
    "import psycopg2"
   ]
  },
  {
   "cell_type": "code",
   "execution_count": null,
   "id": "8d471691",
   "metadata": {},
   "outputs": [],
   "source": [
    "# set java home\n",
    "os.environ['JAVA_HOME'] = 'C:\\java8'"
   ]
  },
  {
   "cell_type": "code",
   "execution_count": null,
   "id": "001d466c",
   "metadata": {},
   "outputs": [],
   "source": [
    "# Initialize my Spark Session\n",
    "spark = SparkSession.builder \\\n",
    "        .appName(\"Nuga Bank ETL\") \\\n",
    "        .config(\"spark.jars\", \"postgresql-42.7.3.jar\") \\\n",
    "        .getOrCreate()"
   ]
  },
  {
   "cell_type": "code",
   "execution_count": null,
   "id": "d6a96b9d",
   "metadata": {},
   "outputs": [],
   "source": [
    "spark"
   ]
  },
  {
   "cell_type": "code",
   "execution_count": null,
   "id": "850ce466",
   "metadata": {},
   "outputs": [],
   "source": [
    "# Extract this historical data into a spark dataframe\n",
    "\n",
    "df = spark.read.csv(r'dataset\\rawdata\\nuga_bank_transactions.csv', header=True, inferSchema=True)"
   ]
  },
  {
   "cell_type": "code",
   "execution_count": null,
   "id": "c9655712",
   "metadata": {},
   "outputs": [],
   "source": [
    "df.show()"
   ]
  },
  {
   "cell_type": "code",
   "execution_count": null,
   "id": "bd10eb61",
   "metadata": {},
   "outputs": [],
   "source": [
    "df.printSchema()"
   ]
  },
  {
   "cell_type": "code",
   "execution_count": null,
   "id": "e2ccf07f",
   "metadata": {},
   "outputs": [],
   "source": [
    "# Data cleaning and transformation\n",
    "for column in df.columns:\n",
    "    print(column, 'Nulls:', df.filter(df[column].isNull()).count())"
   ]
  },
  {
   "cell_type": "code",
   "execution_count": null,
   "id": "621cacad",
   "metadata": {},
   "outputs": [],
   "source": [
    "df.describe().show()"
   ]
  },
  {
   "cell_type": "code",
   "execution_count": null,
   "id": "1eeda119",
   "metadata": {},
   "outputs": [],
   "source": [
    "# fill up the missing values\n",
    "df_clean = df.fillna({\n",
    "    'Customer_Name': 'Unknown',\n",
    "    'Customer_Address': 'Unknown',\n",
    "    'Customer_City': 'Unknown',\n",
    "    'Customer_State': 'Unknown',\n",
    "    'Customer_Country': 'Unknown',\n",
    "    'Company': 'Unknown', \n",
    "    'Job_Title': 'Unknown',\n",
    "    'Email': 'Unknown',\n",
    "    'Phone_Number': 'Unknown',\n",
    "    'Credit_Card_Number': 0,\n",
    "    'IBAN': 'Unknown',\n",
    "    'Currency_Code': 'Unknown',\n",
    "    'Random_Number': 0.0,\n",
    "    'Category' : 'Unknown',\n",
    "    'Group' : 'Unknown',\n",
    "    'Is_Active' : 'Unknown',\n",
    "    'Description' : 'Unknown',\n",
    "    'Gender' : 'Unknown',\n",
    "    'Marital_Status' : 'Unknown'\n",
    "})"
   ]
  },
  {
   "cell_type": "code",
   "execution_count": null,
   "id": "2dde67e1",
   "metadata": {},
   "outputs": [],
   "source": [
    "# Drop the missing values in the Last_Updated column\n",
    "df_clean = df_clean.na.drop(subset=['Last_Updated'])"
   ]
  },
  {
   "cell_type": "code",
   "execution_count": null,
   "id": "cada01cf",
   "metadata": {},
   "outputs": [],
   "source": [
    "for column in df_clean.columns:\n",
    "    print(column, 'Nulls:', df_clean.filter(df_clean[column].isNull()).count())"
   ]
  }
 ],
 "metadata": {
  "kernelspec": {
   "display_name": "Python 3",
   "language": "python",
   "name": "python3"
  },
  "language_info": {
   "codemirror_mode": {
    "name": "ipython",
    "version": 3
   },
   "file_extension": ".py",
   "mimetype": "text/x-python",
   "name": "python",
   "nbconvert_exporter": "python",
   "pygments_lexer": "ipython3",
   "version": "3.11.9"
  }
 },
 "nbformat": 4,
 "nbformat_minor": 5
}
